{
 "cells": [
  {
   "attachments": {},
   "cell_type": "markdown",
   "metadata": {},
   "source": [
    "# Library"
   ]
  },
  {
   "cell_type": "code",
   "execution_count": 1,
   "metadata": {},
   "outputs": [],
   "source": [
    "import wfdb\n",
    "from scipy import signal\n",
    "import scipy\n",
    "import numpy as np\n",
    "from matplotlib import pyplot as plt\n",
    "import math\n",
    "import pandas as pd\n",
    "import pywt\n",
    "\n",
    "from feature_extraction import processing,Fiducial_Points_Detection,nonFiducial,non_fiducial_features_bonus"
   ]
  },
  {
   "attachments": {},
   "cell_type": "markdown",
   "metadata": {},
   "source": [
    "# Read "
   ]
  },
  {
   "cell_type": "code",
   "execution_count": 2,
   "metadata": {},
   "outputs": [],
   "source": [
    "fs = 1000\n",
    "# best start = 1300, best end = 3200\n",
    "patient_1 = wfdb.rdrecord('..//01.Dataset/104/s0306lre', channels=[1])\n",
    "patient_2 = wfdb.rdrecord('..//01.Dataset/117/s0291lre', channels=[1])\n",
    "patient_3 = wfdb.rdrecord('..//01.Dataset/122/s0312lre', channels=[1])\n",
    "patient_4 = wfdb.rdrecord('..//01.Dataset/166/s0275lre', channels=[1])\n",
    "patient_5 = wfdb.rdrecord('..//01.Dataset/173/s0305lre', channels=[1])\n",
    "patient_6 = wfdb.rdrecord('..//01.Dataset/182/s0308lre', channels=[1])\n",
    "patient_7 = wfdb.rdrecord('..//01.Dataset/234/s0460_re', channels=[1])\n",
    "patient_8 = wfdb.rdrecord('..//01.Dataset/238/s0466_re', channels=[1])\n",
    "patient_9 = wfdb.rdrecord('..//01.Dataset/255/s0491_re', channels=[1])\n",
    "patient_10 = wfdb.rdrecord('..//01.Dataset/252/s0487_re', channels=[1])\n",
    "\n",
    "\n",
    "signal_1 = patient_1.p_signal[: ,0]\n",
    "signal_2 = patient_2.p_signal[:, 0]\n",
    "signal_3 = patient_3.p_signal[:, 0]\n",
    "signal_4 = patient_4.p_signal[:, 0]\n",
    "signal_5 = patient_5.p_signal[:, 0]\n",
    "signal_6 = patient_6.p_signal[:, 0]\n",
    "signal_7 = patient_7.p_signal[:, 0]\n",
    "signal_8 = patient_8.p_signal[:, 0]\n",
    "signal_9 = patient_9.p_signal[:, 0]\n",
    "signal_10 = patient_10.p_signal[:, 0]\n",
    "\n",
    "\n",
    "\n",
    "time = len(signal_1)/ fs\n"
   ]
  },
  {
   "attachments": {},
   "cell_type": "markdown",
   "metadata": {},
   "source": [
    "# Preprocessing"
   ]
  },
  {
   "cell_type": "code",
   "execution_count": 3,
   "metadata": {},
   "outputs": [],
   "source": [
    "signal_1 = processing(signal_1)\n",
    "signal_2 = processing(signal_2)\n",
    "signal_3 = processing(signal_3)\n",
    "signal_4 = processing(signal_4)\n",
    "signal_5 = processing(signal_5)\n",
    "signal_6 = processing(signal_6)\n",
    "signal_7 = processing(signal_7)\n",
    "signal_8 = processing(signal_8)\n",
    "signal_9 = processing(signal_9)\n",
    "signal_10 = processing(signal_10)"
   ]
  },
  {
   "attachments": {},
   "cell_type": "markdown",
   "metadata": {},
   "source": [
    "# Feature Exctraction "
   ]
  },
  {
   "attachments": {},
   "cell_type": "markdown",
   "metadata": {},
   "source": [
    "### Fiducial Feature"
   ]
  },
  {
   "cell_type": "code",
   "execution_count": 4,
   "metadata": {},
   "outputs": [
    {
     "name": "stdout",
     "output_type": "stream",
     "text": [
      "115200 115200 115200\n",
      "115200 115200 115200\n",
      "115200 115200 115200\n",
      "115200 115200 115200\n",
      "115200 115200 115200\n",
      "115200 115200 115200\n",
      "120012 120012 120012\n",
      "120012 120012 120012\n",
      "120012 120012 120012\n",
      "120012 120012 120012\n"
     ]
    }
   ],
   "source": [
    "fid_feature_1= Fiducial_Points_Detection(signal_1)\n",
    "fid_feature_2= Fiducial_Points_Detection(signal_2)\n",
    "fid_feature_3= Fiducial_Points_Detection(signal_3)\n",
    "fid_feature_4= Fiducial_Points_Detection(signal_4)\n",
    "fid_feature_5= Fiducial_Points_Detection(signal_5)\n",
    "fid_feature_6= Fiducial_Points_Detection(signal_6)\n",
    "fid_feature_7= Fiducial_Points_Detection(signal_7)\n",
    "fid_feature_8= Fiducial_Points_Detection(signal_8)\n",
    "fid_feature_9= Fiducial_Points_Detection(signal_9)\n",
    "fid_feature_10= Fiducial_Points_Detection(signal_10)\n",
    "\n"
   ]
  },
  {
   "cell_type": "code",
   "execution_count": 5,
   "metadata": {},
   "outputs": [
    {
     "name": "stdout",
     "output_type": "stream",
     "text": [
      "         qx        qy      sx        sy      Rx        Ry  qrs_on_x  qrs_on_y  \\\n",
      "0       762 -0.218743     882 -0.139171     799  1.011308       749 -0.169465   \n",
      "1      1672 -0.205465    1785 -0.140809    1709  0.966185      1659 -0.158040   \n",
      "2      2585 -0.204541    2694 -0.127283    2623  0.975988      2572 -0.163129   \n",
      "3      3444 -0.221023    3556 -0.141537    3481  1.046277      3430 -0.163625   \n",
      "4      4289 -0.227211    4399 -0.145013    4326  1.080314      4275 -0.169533   \n",
      "..      ...       ...     ...       ...     ...       ...       ...       ...   \n",
      "113  110282 -0.235444  110392 -0.148920  110320  1.141661    110269 -0.171362   \n",
      "114  111287 -0.222028  111400 -0.158065  111324  1.062006    111273 -0.163920   \n",
      "115  112286 -0.205208  112400 -0.134296  112323  0.998249    112272 -0.155798   \n",
      "116  113287 -0.196699  113399 -0.133620  113325  0.962978    113274 -0.151628   \n",
      "117  114239 -0.201169  114363 -0.132127  114278  1.014839    114226 -0.150738   \n",
      "\n",
      "     qrs_off_x  qrs_off_y  ...  p_on_x  p_off_x   p_on_y   p_off_y      Tx  \\\n",
      "0          851  -0.109030  ...     595      704 -0.07705 -0.092504    1065   \n",
      "1         1762  -0.111132  ...     595      704 -0.07705 -0.092504    1976   \n",
      "2         2675  -0.097540  ...     595      704 -0.07705 -0.092504    2888   \n",
      "3         3533  -0.113058  ...     595      704 -0.07705 -0.092504    3744   \n",
      "4         4378  -0.114767  ...     595      704 -0.07705 -0.092504    4590   \n",
      "..         ...        ...  ...     ...      ...      ...       ...     ...   \n",
      "113     110371  -0.117149  ...     595      704 -0.07705 -0.092504  110589   \n",
      "114     111376  -0.122075  ...     595      704 -0.07705 -0.092504  111594   \n",
      "115     112376  -0.101022  ...     595      704 -0.07705 -0.092504  112595   \n",
      "116     113377  -0.103373  ...     595      704 -0.07705 -0.092504  113597   \n",
      "117     114330  -0.105812  ...     595      704 -0.07705 -0.092504  114547   \n",
      "\n",
      "           Ty  t_on_x  t_off_x    t_on_y   t_off_y  \n",
      "0    0.237156     983     1129 -0.047551 -0.029896  \n",
      "1    0.240790    1890     2037 -0.053441 -0.026937  \n",
      "2    0.225152    2803     2946 -0.056963 -0.005848  \n",
      "3    0.225443    3672     3811 -0.035502 -0.037835  \n",
      "4    0.234956    4517     4651 -0.037390 -0.010813  \n",
      "..        ...     ...      ...       ...       ...  \n",
      "113  0.251705  110518   110655 -0.033930 -0.039514  \n",
      "114  0.258753  111515   111652 -0.041448 -0.002666  \n",
      "115  0.234549  112498   112655 -0.068531 -0.012446  \n",
      "116  0.247965  113512   113655 -0.044113 -0.006998  \n",
      "117  0.245449  114460   114614 -0.050580 -0.028585  \n",
      "\n",
      "[118 rows x 22 columns]\n",
      "         qx        qy      sx        sy      Rx        Ry  qrs_on_x  qrs_on_y  \\\n",
      "0       467 -0.115444     527 -0.189867     495  0.989898       453 -0.079468   \n",
      "1      1339 -0.107185    1399 -0.196370    1367  1.002586      1325 -0.075312   \n",
      "2      2222 -0.109627    2282 -0.189824    2251  1.007434      2210 -0.083727   \n",
      "3      3123 -0.113268    3183 -0.190746    3152  0.995576      3110 -0.084485   \n",
      "4      3996 -0.109452    4056 -0.181667    4024  0.993931      3982 -0.071776   \n",
      "..      ...       ...     ...       ...     ...       ...       ...       ...   \n",
      "124  110934 -0.110191  110994 -0.178036  110963  1.010863    110921 -0.083751   \n",
      "125  111835 -0.118744  111895 -0.189772  111863  0.999778    111822 -0.084648   \n",
      "126  112696 -0.112493  112757 -0.190797  112724  0.987511    112683 -0.080995   \n",
      "127  113597 -0.107618  113657 -0.188682  113626  1.011535    113584 -0.082528   \n",
      "128  114523 -0.108944  114584 -0.190585  114552  1.002630    114511 -0.080888   \n",
      "\n",
      "     qrs_off_x  qrs_off_y  ...  p_on_x  p_off_x    p_on_y   p_off_y      Tx  \\\n",
      "0          541  -0.062274  ...     290      338 -0.039388 -0.035062     541   \n",
      "1         1413  -0.067228  ...     290      338 -0.039388 -0.035062    1413   \n",
      "2         2296  -0.067326  ...     290      338 -0.039388 -0.035062    2296   \n",
      "3         3197  -0.062605  ...     290      338 -0.039388 -0.035062    3197   \n",
      "4         4070  -0.056750  ...     290      338 -0.039388 -0.035062    4070   \n",
      "..         ...        ...  ...     ...      ...       ...       ...     ...   \n",
      "124     111008  -0.060805  ...     290      338 -0.039388 -0.035062  111008   \n",
      "125     111909  -0.069788  ...     290      338 -0.039388 -0.035062  111909   \n",
      "126     112771  -0.062672  ...     290      338 -0.039388 -0.035062  112771   \n",
      "127     113671  -0.059797  ...     290      338 -0.039388 -0.035062  113671   \n",
      "128     114598  -0.062972  ...     290      338 -0.039388 -0.035062  114598   \n",
      "\n",
      "           Ty  t_on_x  t_off_x    t_on_y   t_off_y  \n",
      "0   -0.062274     527      643 -0.189867 -0.022462  \n",
      "1   -0.067228    1399     1523 -0.196370 -0.016641  \n",
      "2   -0.067326    2282     2381 -0.189824 -0.036715  \n",
      "3   -0.062605    3183     3302 -0.190746 -0.019990  \n",
      "4   -0.056750    4056     4163 -0.181667 -0.020659  \n",
      "..        ...     ...      ...       ...       ...  \n",
      "124 -0.060805  110994   111099 -0.178036 -0.021862  \n",
      "125 -0.069788  111895   112008 -0.189772 -0.018202  \n",
      "126 -0.062672  112757   112876 -0.190797 -0.006122  \n",
      "127 -0.059797  113657   113759 -0.188682 -0.026637  \n",
      "128 -0.062972  114584   114684 -0.190585 -0.031094  \n",
      "\n",
      "[129 rows x 22 columns]\n"
     ]
    }
   ],
   "source": [
    "print(fid_feature_1)\n",
    "print(fid_feature_2)"
   ]
  },
  {
   "cell_type": "code",
   "execution_count": 6,
   "metadata": {},
   "outputs": [],
   "source": [
    "fid_feature_1[\"class\"]=1\n",
    "fid_feature_2[\"class\"]=2\n",
    "fid_feature_3[\"class\"]=3\n",
    "fid_feature_4[\"class\"]=4\n",
    "fid_feature_5[\"class\"]=5\n",
    "fid_feature_6[\"class\"]=6\n",
    "fid_feature_7[\"class\"]=7\n",
    "fid_feature_8[\"class\"]=8\n",
    "fid_feature_9[\"class\"]=9\n",
    "fid_feature_10[\"class\"]=10\n"
   ]
  },
  {
   "cell_type": "code",
   "execution_count": 7,
   "metadata": {},
   "outputs": [
    {
     "name": "stdout",
     "output_type": "stream",
     "text": [
      "         qx        qy      sx        sy      Rx        Ry  qrs_on_x  qrs_on_y  \\\n",
      "0       762 -0.218743     882 -0.139171     799  1.011308       749 -0.169465   \n",
      "1      1672 -0.205465    1785 -0.140809    1709  0.966185      1659 -0.158040   \n",
      "2      2585 -0.204541    2694 -0.127283    2623  0.975988      2572 -0.163129   \n",
      "3      3444 -0.221023    3556 -0.141537    3481  1.046277      3430 -0.163625   \n",
      "4      4289 -0.227211    4399 -0.145013    4326  1.080314      4275 -0.169533   \n",
      "..      ...       ...     ...       ...     ...       ...       ...       ...   \n",
      "113  110282 -0.235444  110392 -0.148920  110320  1.141661    110269 -0.171362   \n",
      "114  111287 -0.222028  111400 -0.158065  111324  1.062006    111273 -0.163920   \n",
      "115  112286 -0.205208  112400 -0.134296  112323  0.998249    112272 -0.155798   \n",
      "116  113287 -0.196699  113399 -0.133620  113325  0.962978    113274 -0.151628   \n",
      "117  114239 -0.201169  114363 -0.132127  114278  1.014839    114226 -0.150738   \n",
      "\n",
      "     qrs_off_x  qrs_off_y  ...  p_off_x   p_on_y   p_off_y      Tx        Ty  \\\n",
      "0          851  -0.109030  ...      704 -0.07705 -0.092504    1065  0.237156   \n",
      "1         1762  -0.111132  ...      704 -0.07705 -0.092504    1976  0.240790   \n",
      "2         2675  -0.097540  ...      704 -0.07705 -0.092504    2888  0.225152   \n",
      "3         3533  -0.113058  ...      704 -0.07705 -0.092504    3744  0.225443   \n",
      "4         4378  -0.114767  ...      704 -0.07705 -0.092504    4590  0.234956   \n",
      "..         ...        ...  ...      ...      ...       ...     ...       ...   \n",
      "113     110371  -0.117149  ...      704 -0.07705 -0.092504  110589  0.251705   \n",
      "114     111376  -0.122075  ...      704 -0.07705 -0.092504  111594  0.258753   \n",
      "115     112376  -0.101022  ...      704 -0.07705 -0.092504  112595  0.234549   \n",
      "116     113377  -0.103373  ...      704 -0.07705 -0.092504  113597  0.247965   \n",
      "117     114330  -0.105812  ...      704 -0.07705 -0.092504  114547  0.245449   \n",
      "\n",
      "     t_on_x  t_off_x    t_on_y   t_off_y  class  \n",
      "0       983     1129 -0.047551 -0.029896      1  \n",
      "1      1890     2037 -0.053441 -0.026937      1  \n",
      "2      2803     2946 -0.056963 -0.005848      1  \n",
      "3      3672     3811 -0.035502 -0.037835      1  \n",
      "4      4517     4651 -0.037390 -0.010813      1  \n",
      "..      ...      ...       ...       ...    ...  \n",
      "113  110518   110655 -0.033930 -0.039514      1  \n",
      "114  111515   111652 -0.041448 -0.002666      1  \n",
      "115  112498   112655 -0.068531 -0.012446      1  \n",
      "116  113512   113655 -0.044113 -0.006998      1  \n",
      "117  114460   114614 -0.050580 -0.028585      1  \n",
      "\n",
      "[118 rows x 23 columns]\n",
      "         qx        qy      sx        sy      Rx        Ry  qrs_on_x  qrs_on_y  \\\n",
      "0       467 -0.115444     527 -0.189867     495  0.989898       453 -0.079468   \n",
      "1      1339 -0.107185    1399 -0.196370    1367  1.002586      1325 -0.075312   \n",
      "2      2222 -0.109627    2282 -0.189824    2251  1.007434      2210 -0.083727   \n",
      "3      3123 -0.113268    3183 -0.190746    3152  0.995576      3110 -0.084485   \n",
      "4      3996 -0.109452    4056 -0.181667    4024  0.993931      3982 -0.071776   \n",
      "..      ...       ...     ...       ...     ...       ...       ...       ...   \n",
      "124  110934 -0.110191  110994 -0.178036  110963  1.010863    110921 -0.083751   \n",
      "125  111835 -0.118744  111895 -0.189772  111863  0.999778    111822 -0.084648   \n",
      "126  112696 -0.112493  112757 -0.190797  112724  0.987511    112683 -0.080995   \n",
      "127  113597 -0.107618  113657 -0.188682  113626  1.011535    113584 -0.082528   \n",
      "128  114523 -0.108944  114584 -0.190585  114552  1.002630    114511 -0.080888   \n",
      "\n",
      "     qrs_off_x  qrs_off_y  ...  p_off_x    p_on_y   p_off_y      Tx        Ty  \\\n",
      "0          541  -0.062274  ...      338 -0.039388 -0.035062     541 -0.062274   \n",
      "1         1413  -0.067228  ...      338 -0.039388 -0.035062    1413 -0.067228   \n",
      "2         2296  -0.067326  ...      338 -0.039388 -0.035062    2296 -0.067326   \n",
      "3         3197  -0.062605  ...      338 -0.039388 -0.035062    3197 -0.062605   \n",
      "4         4070  -0.056750  ...      338 -0.039388 -0.035062    4070 -0.056750   \n",
      "..         ...        ...  ...      ...       ...       ...     ...       ...   \n",
      "124     111008  -0.060805  ...      338 -0.039388 -0.035062  111008 -0.060805   \n",
      "125     111909  -0.069788  ...      338 -0.039388 -0.035062  111909 -0.069788   \n",
      "126     112771  -0.062672  ...      338 -0.039388 -0.035062  112771 -0.062672   \n",
      "127     113671  -0.059797  ...      338 -0.039388 -0.035062  113671 -0.059797   \n",
      "128     114598  -0.062972  ...      338 -0.039388 -0.035062  114598 -0.062972   \n",
      "\n",
      "     t_on_x  t_off_x    t_on_y   t_off_y  class  \n",
      "0       527      643 -0.189867 -0.022462      2  \n",
      "1      1399     1523 -0.196370 -0.016641      2  \n",
      "2      2282     2381 -0.189824 -0.036715      2  \n",
      "3      3183     3302 -0.190746 -0.019990      2  \n",
      "4      4056     4163 -0.181667 -0.020659      2  \n",
      "..      ...      ...       ...       ...    ...  \n",
      "124  110994   111099 -0.178036 -0.021862      2  \n",
      "125  111895   112008 -0.189772 -0.018202      2  \n",
      "126  112757   112876 -0.190797 -0.006122      2  \n",
      "127  113657   113759 -0.188682 -0.026637      2  \n",
      "128  114584   114684 -0.190585 -0.031094      2  \n",
      "\n",
      "[129 rows x 23 columns]\n"
     ]
    }
   ],
   "source": [
    "print(fid_feature_1)\n",
    "print(fid_feature_2)"
   ]
  },
  {
   "cell_type": "code",
   "execution_count": 8,
   "metadata": {},
   "outputs": [
    {
     "name": "stdout",
     "output_type": "stream",
     "text": [
      "115 129\n"
     ]
    }
   ],
   "source": [
    "fid_f_1 = fid_feature_1.values\n",
    "fid_f_2 = fid_feature_2.values\n",
    "fid_f_3 = fid_feature_3.values\n",
    "fid_f_4 = fid_feature_4.values\n",
    "fid_f_5 = fid_feature_5.values\n",
    "fid_f_6 = fid_feature_6.values\n",
    "fid_f_7 = fid_feature_7.values\n",
    "fid_f_8 = fid_feature_8.values\n",
    "fid_f_9 = fid_feature_9.values\n",
    "fid_f_10 = fid_feature_10.values\n",
    "\n",
    "print(len(fid_f_4),len(fid_f_2))"
   ]
  },
  {
   "cell_type": "code",
   "execution_count": 9,
   "metadata": {},
   "outputs": [],
   "source": [
    "Fid_Data = np.concatenate((fid_f_1, fid_f_2), axis=0)\n",
    "Fid_Data = np.concatenate((Fid_Data, fid_f_3), axis=0)\n",
    "Fid_Data = np.concatenate((Fid_Data, fid_f_4), axis=0)\n",
    "Fid_Data = np.concatenate((Fid_Data, fid_f_5), axis=0)\n",
    "Fid_Data = np.concatenate((Fid_Data, fid_f_6), axis=0)\n",
    "Fid_Data = np.concatenate((Fid_Data, fid_f_7), axis=0)"
   ]
  },
  {
   "cell_type": "code",
   "execution_count": 10,
   "metadata": {},
   "outputs": [],
   "source": [
    "np.save(\"fiducial_feature.npy\",Fid_Data)"
   ]
  },
  {
   "attachments": {},
   "cell_type": "markdown",
   "metadata": {},
   "source": [
    "# Fiducial Model"
   ]
  },
  {
   "cell_type": "code",
   "execution_count": 11,
   "metadata": {},
   "outputs": [],
   "source": [
    "from sklearn import datasets\n",
    "from sklearn.model_selection import train_test_split\n",
    "from sklearn.ensemble import RandomForestClassifier\n",
    "from sklearn.metrics import accuracy_score"
   ]
  },
  {
   "cell_type": "code",
   "execution_count": 12,
   "metadata": {},
   "outputs": [],
   "source": [
    "X_train = Fid_Data[:,:22]\n",
    "y_train = Fid_Data[:,-1]"
   ]
  },
  {
   "cell_type": "code",
   "execution_count": 13,
   "metadata": {},
   "outputs": [
    {
     "data": {
      "text/plain": [
       "RandomForestClassifier(random_state=42)"
      ]
     },
     "execution_count": 13,
     "metadata": {},
     "output_type": "execute_result"
    }
   ],
   "source": [
    "random_forest_classifier = RandomForestClassifier(n_estimators=100, random_state=42)\n",
    "\n",
    "# Train the Random Forest classifier on the training data\n",
    "random_forest_classifier.fit(X_train, y_train)"
   ]
  },
  {
   "cell_type": "code",
   "execution_count": 14,
   "metadata": {},
   "outputs": [],
   "source": [
    "X_test = fid_f_10[:,:22]\n",
    "y_test = fid_f_10[:,-1]"
   ]
  },
  {
   "cell_type": "code",
   "execution_count": 15,
   "metadata": {},
   "outputs": [
    {
     "name": "stdout",
     "output_type": "stream",
     "text": [
      "Accuracy: 0.0\n"
     ]
    }
   ],
   "source": [
    "y_pred = random_forest_classifier.predict(X_test)\n",
    "probs = random_forest_classifier.predict_proba(X_test)\n",
    "#Calculate the accuracy of the classifier\n",
    "accuracy = accuracy_score(y_test, y_pred)\n",
    "print(\"Accuracy:\", accuracy)"
   ]
  },
  {
   "cell_type": "code",
   "execution_count": 16,
   "metadata": {},
   "outputs": [
    {
     "name": "stdout",
     "output_type": "stream",
     "text": [
      "subject is undefind\n"
     ]
    }
   ],
   "source": [
    "threshold_percentage = 0.95\n",
    "flag = 0\n",
    "for i in range(0,len(probs)):\n",
    "    for subject_id, percentage in enumerate(probs[i]):\n",
    "\n",
    "        if percentage >= threshold_percentage:\n",
    "            print(f\"Identified as subject {subject_id+1} with {percentage}% certainty.\")\n",
    "            flag = 1\n",
    "    if flag == 1:\n",
    "        break\n",
    "\n",
    "if flag == 0:\n",
    "    print(\"subject is undefind\")"
   ]
  },
  {
   "attachments": {},
   "cell_type": "markdown",
   "metadata": {},
   "source": [
    "# Non_feducial feature"
   ]
  },
  {
   "cell_type": "code",
   "execution_count": 17,
   "metadata": {},
   "outputs": [
    {
     "name": "stderr",
     "output_type": "stream",
     "text": [
      "c:\\Users\\Samy\\anaconda3\\lib\\site-packages\\statsmodels\\tsa\\stattools.py:667: FutureWarning: fft=True will become the default after the release of the 0.12 release of statsmodels. To suppress this warning, explicitly set fft=False.\n",
      "  warnings.warn(\n"
     ]
    }
   ],
   "source": [
    "non_fid1 = nonFiducial(signal_1).reshape(80,1)\n",
    "non_fid2 = nonFiducial(signal_2).reshape(80,1)\n",
    "non_fid3 = nonFiducial(signal_3).reshape(80,1)\n",
    "non_fid4 = nonFiducial(signal_4).reshape(80,1)\n",
    "non_fid5 = nonFiducial(signal_5).reshape(80,1)\n",
    "non_fid6 = nonFiducial(signal_6).reshape(80,1)\n",
    "non_fid7 = nonFiducial(signal_7).reshape(80,1)\n",
    "non_fid8 = nonFiducial(signal_8).reshape(80,1)\n",
    "non_fid9 = nonFiducial(signal_9).reshape(80,1)\n",
    "non_fid10 = nonFiducial(signal_10).reshape(80,1)\n"
   ]
  },
  {
   "cell_type": "code",
   "execution_count": 18,
   "metadata": {},
   "outputs": [],
   "source": [
    "def data_frame(non_fid, label):\n",
    "    df = pd.DataFrame({})\n",
    "    for i in range(len(non_fid)):\n",
    "        df[i] = non_fid[i]\n",
    "    df['label'] = label\n",
    "    return df\n"
   ]
  },
  {
   "cell_type": "code",
   "execution_count": 19,
   "metadata": {},
   "outputs": [],
   "source": [
    "non_fid1 = data_frame(non_fid1, 1)\n",
    "non_fid2 = data_frame(non_fid2, 2)\n",
    "non_fid3 = data_frame(non_fid3, 3)\n",
    "non_fid4 = data_frame(non_fid4, 4)\n",
    "non_fid5 = data_frame(non_fid5, 5)\n",
    "non_fid6 = data_frame(non_fid6, 6)\n",
    "non_fid7 = data_frame(non_fid7, 7)\n",
    "non_fid8 = data_frame(non_fid8, 8)\n",
    "non_fid9 = data_frame(non_fid9, 9)\n",
    "non_fid10 = data_frame(non_fid10, 10)"
   ]
  },
  {
   "cell_type": "code",
   "execution_count": 20,
   "metadata": {},
   "outputs": [],
   "source": [
    "Data_Non_fid = pd.concat([non_fid1,non_fid2,non_fid3,non_fid4,non_fid5,non_fid6,non_fid7], ignore_index=True)"
   ]
  },
  {
   "cell_type": "code",
   "execution_count": 21,
   "metadata": {},
   "outputs": [],
   "source": [
    "Data_Non_fid.to_csv(\"Non_feaducial_feature.csv\",index=False)"
   ]
  },
  {
   "attachments": {},
   "cell_type": "markdown",
   "metadata": {},
   "source": [
    "# Non_fiducial Model"
   ]
  },
  {
   "cell_type": "code",
   "execution_count": 22,
   "metadata": {},
   "outputs": [],
   "source": [
    "from sklearn import datasets\n",
    "from sklearn.model_selection import train_test_split\n",
    "from sklearn.ensemble import RandomForestClassifier\n",
    "from sklearn.metrics import accuracy_score\n"
   ]
  },
  {
   "cell_type": "code",
   "execution_count": 23,
   "metadata": {},
   "outputs": [],
   "source": [
    "X_train = Data_Non_fid.drop('label', axis=1)\n",
    "y = Data_Non_fid['label']"
   ]
  },
  {
   "cell_type": "code",
   "execution_count": 26,
   "metadata": {},
   "outputs": [
    {
     "data": {
      "text/plain": [
       "RandomForestClassifier(random_state=42)"
      ]
     },
     "execution_count": 26,
     "metadata": {},
     "output_type": "execute_result"
    }
   ],
   "source": [
    "random_forest_classifier = RandomForestClassifier(n_estimators=100, random_state=42)\n",
    "\n",
    "# Train the Random Forest classifier on the training data\n",
    "random_forest_classifier.fit(X_train, y)\n"
   ]
  },
  {
   "cell_type": "code",
   "execution_count": 27,
   "metadata": {},
   "outputs": [],
   "source": [
    "X_test = non_fid8.drop('label', axis=1)\n",
    "y_test = non_fid8['label']"
   ]
  },
  {
   "cell_type": "code",
   "execution_count": 28,
   "metadata": {},
   "outputs": [
    {
     "name": "stdout",
     "output_type": "stream",
     "text": [
      "Accuracy: 0.0\n"
     ]
    }
   ],
   "source": [
    "y_pred = random_forest_classifier.predict(X_test)\n",
    "probs = random_forest_classifier.predict_proba(X_test)\n",
    "\n",
    "#Calculate the accuracy of the classifier\n",
    "accuracy = accuracy_score(y_test, y_pred)\n",
    "print(\"Accuracy:\", accuracy)\n",
    "# print(\"prob:\", probs)\n",
    "# print(y_pred)"
   ]
  },
  {
   "cell_type": "code",
   "execution_count": 29,
   "metadata": {},
   "outputs": [
    {
     "name": "stdout",
     "output_type": "stream",
     "text": [
      "subject is undefind\n"
     ]
    }
   ],
   "source": [
    "threshold_percentage = 0.5\n",
    "flag = 0\n",
    "for i in range(0,len(probs)):\n",
    "    for subject_id, percentage in enumerate(probs[i]):\n",
    "\n",
    "        if percentage >= threshold_percentage:\n",
    "            print(f\"Identified as subject {subject_id+1} with {percentage}% certainty.\")\n",
    "            flag = 1\n",
    "        # else:\n",
    "        #     print(f\"Identified as subject {subject_id+1} , but with {percentage}% certainty below the threshold.\")\n",
    "            \n",
    "if flag == 0:\n",
    "    print(\"subject is undefind\")"
   ]
  },
  {
   "attachments": {},
   "cell_type": "markdown",
   "metadata": {},
   "source": [
    "# Bouns "
   ]
  },
  {
   "cell_type": "code",
   "execution_count": 4,
   "metadata": {},
   "outputs": [
    {
     "name": "stdout",
     "output_type": "stream",
     "text": [
      "115200 115200 115200\n",
      "115200 115200 115200\n",
      "115200 115200 115200\n",
      "115200 115200 115200\n",
      "115200 115200 115200\n",
      "115200 115200 115200\n",
      "120012 120012 120012\n",
      "120012 120012 120012\n",
      "120012 120012 120012\n",
      "120012 120012 120012\n"
     ]
    }
   ],
   "source": [
    "Bouns_feature_1 = non_fiducial_features_bonus(signal_1)\n",
    "Bouns_feature_2 = non_fiducial_features_bonus(signal_2)\n",
    "Bouns_feature_3 = non_fiducial_features_bonus(signal_3)\n",
    "Bouns_feature_4 = non_fiducial_features_bonus(signal_4)\n",
    "Bouns_feature_5 = non_fiducial_features_bonus(signal_5)\n",
    "Bouns_feature_6 = non_fiducial_features_bonus(signal_6)\n",
    "Bouns_feature_7 = non_fiducial_features_bonus(signal_7)\n",
    "Bouns_feature_8 = non_fiducial_features_bonus(signal_8)\n",
    "Bouns_feature_9 = non_fiducial_features_bonus(signal_9)\n",
    "Bouns_feature_10 = non_fiducial_features_bonus(signal_10)\n"
   ]
  },
  {
   "cell_type": "code",
   "execution_count": 5,
   "metadata": {},
   "outputs": [],
   "source": [
    "def data_frame(non_fid, label):\n",
    "    df = pd.DataFrame({})\n",
    "    for i in range(len(non_fid)):\n",
    "        df[i] = non_fid[i]\n",
    "    df = df.T\n",
    "    df['label'] = label\n",
    "    return df"
   ]
  },
  {
   "cell_type": "code",
   "execution_count": 6,
   "metadata": {},
   "outputs": [
    {
     "name": "stderr",
     "output_type": "stream",
     "text": [
      "C:\\Users\\Samy\\AppData\\Local\\Temp/ipykernel_19372/630658503.py:4: PerformanceWarning: DataFrame is highly fragmented.  This is usually the result of calling `frame.insert` many times, which has poor performance.  Consider joining all columns at once using pd.concat(axis=1) instead.  To get a de-fragmented frame, use `newframe = frame.copy()`\n",
      "  df[i] = non_fid[i]\n"
     ]
    }
   ],
   "source": [
    "B_non_fid1 = data_frame(Bouns_feature_1, 1)\n",
    "B_non_fid2 = data_frame(Bouns_feature_2, 2)\n",
    "B_non_fid3 = data_frame(Bouns_feature_3, 3)\n",
    "B_non_fid4 = data_frame(Bouns_feature_4, 4)\n",
    "B_non_fid5 = data_frame(Bouns_feature_5, 5)\n",
    "B_non_fid6 = data_frame(Bouns_feature_6, 6)\n",
    "B_non_fid7 = data_frame(Bouns_feature_7, 7)\n",
    "B_non_fid8 = data_frame(Bouns_feature_8, 8)\n",
    "B_non_fid9 = data_frame(Bouns_feature_9, 9)\n",
    "B_non_fid10 = data_frame(Bouns_feature_10, 10)"
   ]
  },
  {
   "cell_type": "code",
   "execution_count": 7,
   "metadata": {},
   "outputs": [],
   "source": [
    "Data_bouns = pd.concat([B_non_fid1, B_non_fid2, B_non_fid3, B_non_fid4,B_non_fid5,B_non_fid6,B_non_fid7], ignore_index=True)"
   ]
  },
  {
   "cell_type": "code",
   "execution_count": 8,
   "metadata": {},
   "outputs": [
    {
     "data": {
      "text/plain": [
       "(847, 41)"
      ]
     },
     "execution_count": 8,
     "metadata": {},
     "output_type": "execute_result"
    }
   ],
   "source": [
    "Data_bouns.shape"
   ]
  },
  {
   "cell_type": "code",
   "execution_count": 9,
   "metadata": {},
   "outputs": [],
   "source": [
    "Data_bouns.to_csv(\"bouns_feature.csv\",index=False)"
   ]
  },
  {
   "attachments": {},
   "cell_type": "markdown",
   "metadata": {},
   "source": [
    "# Bouns Model"
   ]
  },
  {
   "cell_type": "code",
   "execution_count": 10,
   "metadata": {},
   "outputs": [],
   "source": [
    "from sklearn import datasets\n",
    "from sklearn.model_selection import train_test_split\n",
    "from sklearn.ensemble import RandomForestClassifier\n",
    "from sklearn.metrics import accuracy_score"
   ]
  },
  {
   "cell_type": "code",
   "execution_count": 11,
   "metadata": {},
   "outputs": [],
   "source": [
    "X_train = Data_bouns.drop('label', axis=1)\n",
    "y = Data_bouns['label']"
   ]
  },
  {
   "cell_type": "code",
   "execution_count": 12,
   "metadata": {},
   "outputs": [],
   "source": [
    "X_test = B_non_fid8.drop('label', axis=1)\n",
    "y_test = B_non_fid8['label']"
   ]
  },
  {
   "cell_type": "code",
   "execution_count": 13,
   "metadata": {},
   "outputs": [
    {
     "name": "stdout",
     "output_type": "stream",
     "text": [
      "Accuracy: 0.0\n"
     ]
    }
   ],
   "source": [
    "random_forest_classifier = RandomForestClassifier(n_estimators=100, random_state=42)\n",
    "\n",
    "# Train the Random Forest classifier on the training data\n",
    "random_forest_classifier.fit(X_train, y)\n",
    "\n",
    "y_pred = random_forest_classifier.predict(X_test)\n",
    "probs = random_forest_classifier.predict_proba(X_test)\n",
    "\n",
    "#Calculate the accuracy of the classifier\n",
    "accuracy = accuracy_score(y_test, y_pred)\n",
    "print(\"Accuracy:\", accuracy)\n",
    "# print(\"prob:\", probs)\n",
    "# np.max(probs)"
   ]
  },
  {
   "cell_type": "code",
   "execution_count": 14,
   "metadata": {},
   "outputs": [
    {
     "name": "stdout",
     "output_type": "stream",
     "text": [
      "subject is undefind\n"
     ]
    }
   ],
   "source": [
    "threshold_percentage = 0.95\n",
    "flag = 0\n",
    "for i in range(0,len(probs)):\n",
    "    for subject_id, percentage in enumerate(probs[i]):\n",
    "\n",
    "        if percentage >= threshold_percentage:\n",
    "            print(f\"Identified as subject {subject_id+1} with {percentage}% certainty.\")\n",
    "            flag = 1\n",
    "    if flag == 1:\n",
    "        break\n",
    "\n",
    "if flag == 0:\n",
    "    print(\"subject is undefind\")"
   ]
  },
  {
   "cell_type": "code",
   "execution_count": null,
   "metadata": {},
   "outputs": [],
   "source": []
  }
 ],
 "metadata": {
  "kernelspec": {
   "display_name": "base",
   "language": "python",
   "name": "python3"
  },
  "language_info": {
   "codemirror_mode": {
    "name": "ipython",
    "version": 3
   },
   "file_extension": ".py",
   "mimetype": "text/x-python",
   "name": "python",
   "nbconvert_exporter": "python",
   "pygments_lexer": "ipython3",
   "version": "3.9.7"
  },
  "orig_nbformat": 4
 },
 "nbformat": 4,
 "nbformat_minor": 2
}
